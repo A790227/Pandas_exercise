{
 "cells": [
  {
   "cell_type": "code",
   "execution_count": 1,
   "metadata": {
    "collapsed": false,
    "jupyter": {
     "outputs_hidden": false
    }
   },
   "outputs": [],
   "source": [
    "import pandas as pd"
   ]
  },
  {
   "cell_type": "markdown",
   "metadata": {},
   "source": [
    "### Download the data and load it to Pandas. \n",
    "\n",
    "You can find the data files in the README."
   ]
  },
  {
   "cell_type": "code",
   "execution_count": 4,
   "metadata": {
    "collapsed": false,
    "jupyter": {
     "outputs_hidden": false
    }
   },
   "outputs": [
    {
     "data": {
      "text/html": [
       "<div>\n",
       "<style scoped>\n",
       "    .dataframe tbody tr th:only-of-type {\n",
       "        vertical-align: middle;\n",
       "    }\n",
       "\n",
       "    .dataframe tbody tr th {\n",
       "        vertical-align: top;\n",
       "    }\n",
       "\n",
       "    .dataframe thead th {\n",
       "        text-align: right;\n",
       "    }\n",
       "</style>\n",
       "<table border=\"1\" class=\"dataframe\">\n",
       "  <thead>\n",
       "    <tr style=\"text-align: right;\">\n",
       "      <th></th>\n",
       "      <th>title</th>\n",
       "      <th>year</th>\n",
       "    </tr>\n",
       "  </thead>\n",
       "  <tbody>\n",
       "    <tr>\n",
       "      <th>0</th>\n",
       "      <td>The Rising Son</td>\n",
       "      <td>1990</td>\n",
       "    </tr>\n",
       "    <tr>\n",
       "      <th>1</th>\n",
       "      <td>The Thousand Plane Raid</td>\n",
       "      <td>1969</td>\n",
       "    </tr>\n",
       "    <tr>\n",
       "      <th>2</th>\n",
       "      <td>Crucea de piatra</td>\n",
       "      <td>1993</td>\n",
       "    </tr>\n",
       "    <tr>\n",
       "      <th>3</th>\n",
       "      <td>Country</td>\n",
       "      <td>2000</td>\n",
       "    </tr>\n",
       "    <tr>\n",
       "      <th>4</th>\n",
       "      <td>Gaiking II</td>\n",
       "      <td>2011</td>\n",
       "    </tr>\n",
       "  </tbody>\n",
       "</table>\n",
       "</div>"
      ],
      "text/plain": [
       "                     title  year\n",
       "0           The Rising Son  1990\n",
       "1  The Thousand Plane Raid  1969\n",
       "2         Crucea de piatra  1993\n",
       "3                  Country  2000\n",
       "4               Gaiking II  2011"
      ]
     },
     "execution_count": 4,
     "metadata": {},
     "output_type": "execute_result"
    }
   ],
   "source": [
    "# titles = pd.read_csv('data/titles.csv', index_col=None)\n",
    "titles = pd.read_csv('titles.csv', index_col=None)\n",
    "\n",
    "# titles.head()\n",
    "titles.head()\n"
   ]
  },
  {
   "cell_type": "code",
   "execution_count": 3,
   "metadata": {
    "collapsed": false,
    "jupyter": {
     "outputs_hidden": false
    }
   },
   "outputs": [
    {
     "data": {
      "text/html": [
       "<div>\n",
       "<style scoped>\n",
       "    .dataframe tbody tr th:only-of-type {\n",
       "        vertical-align: middle;\n",
       "    }\n",
       "\n",
       "    .dataframe tbody tr th {\n",
       "        vertical-align: top;\n",
       "    }\n",
       "\n",
       "    .dataframe thead th {\n",
       "        text-align: right;\n",
       "    }\n",
       "</style>\n",
       "<table border=\"1\" class=\"dataframe\">\n",
       "  <thead>\n",
       "    <tr style=\"text-align: right;\">\n",
       "      <th></th>\n",
       "      <th>title</th>\n",
       "      <th>year</th>\n",
       "      <th>name</th>\n",
       "      <th>type</th>\n",
       "      <th>character</th>\n",
       "      <th>n</th>\n",
       "    </tr>\n",
       "  </thead>\n",
       "  <tbody>\n",
       "    <tr>\n",
       "      <th>0</th>\n",
       "      <td>Closet Monster</td>\n",
       "      <td>2015</td>\n",
       "      <td>Buffy #1</td>\n",
       "      <td>actor</td>\n",
       "      <td>Buffy 4</td>\n",
       "      <td>NaN</td>\n",
       "    </tr>\n",
       "    <tr>\n",
       "      <th>1</th>\n",
       "      <td>Suuri illusioni</td>\n",
       "      <td>1985</td>\n",
       "      <td>Homo $</td>\n",
       "      <td>actor</td>\n",
       "      <td>Guests</td>\n",
       "      <td>22.0</td>\n",
       "    </tr>\n",
       "    <tr>\n",
       "      <th>2</th>\n",
       "      <td>Battle of the Sexes</td>\n",
       "      <td>2017</td>\n",
       "      <td>$hutter</td>\n",
       "      <td>actor</td>\n",
       "      <td>Bobby Riggs Fan</td>\n",
       "      <td>10.0</td>\n",
       "    </tr>\n",
       "    <tr>\n",
       "      <th>3</th>\n",
       "      <td>Secret in Their Eyes</td>\n",
       "      <td>2015</td>\n",
       "      <td>$hutter</td>\n",
       "      <td>actor</td>\n",
       "      <td>2002 Dodger Fan</td>\n",
       "      <td>NaN</td>\n",
       "    </tr>\n",
       "    <tr>\n",
       "      <th>4</th>\n",
       "      <td>Steve Jobs</td>\n",
       "      <td>2015</td>\n",
       "      <td>$hutter</td>\n",
       "      <td>actor</td>\n",
       "      <td>1988 Opera House Patron</td>\n",
       "      <td>NaN</td>\n",
       "    </tr>\n",
       "  </tbody>\n",
       "</table>\n",
       "</div>"
      ],
      "text/plain": [
       "                  title  year      name   type                character     n\n",
       "0        Closet Monster  2015  Buffy #1  actor                  Buffy 4   NaN\n",
       "1       Suuri illusioni  1985    Homo $  actor                   Guests  22.0\n",
       "2   Battle of the Sexes  2017   $hutter  actor          Bobby Riggs Fan  10.0\n",
       "3  Secret in Their Eyes  2015   $hutter  actor          2002 Dodger Fan   NaN\n",
       "4            Steve Jobs  2015   $hutter  actor  1988 Opera House Patron   NaN"
      ]
     },
     "execution_count": 3,
     "metadata": {},
     "output_type": "execute_result"
    }
   ],
   "source": [
    "# cast = pd.read_csv('data/cast.csv', index_col=None)\n",
    "cast = pd.read_csv('cast.csv', index_col=None)\n",
    "\n",
    "\n",
    "# cast.head()\n",
    "cast.head()"
   ]
  },
  {
   "cell_type": "markdown",
   "metadata": {},
   "source": [
    "### 1. How many movies have the title \"Hamlet\"?"
   ]
  },
  {
   "cell_type": "code",
   "execution_count": 8,
   "metadata": {},
   "outputs": [
    {
     "name": "stdout",
     "output_type": "stream",
     "text": [
      "Number of movies with the title 'Hamlet': 18\n"
     ]
    }
   ],
   "source": [
    "hamlet_count = titles[titles['title'] == 'Hamlet'].shape[0]\n",
    "print(f\"Number of movies with the title 'Hamlet': {hamlet_count}\")"
   ]
  },
  {
   "cell_type": "code",
   "execution_count": null,
   "metadata": {},
   "outputs": [],
   "source": []
  },
  {
   "cell_type": "markdown",
   "metadata": {},
   "source": [
    "### 2. When was the first movie titled \"Hamlet\" made?"
   ]
  },
  {
   "cell_type": "code",
   "execution_count": 9,
   "metadata": {},
   "outputs": [],
   "source": [
    "# Filter titles DataFrame for movies titled \"Hamlet\"\n",
    "hamlet_movies = titles[titles['title'] == 'Hamlet']"
   ]
  },
  {
   "cell_type": "code",
   "execution_count": 10,
   "metadata": {},
   "outputs": [],
   "source": [
    "# Sort by the 'year' column to find the earliest movie\n",
    "earliest_hamlet_movie = hamlet_movies.sort_values(by='year').iloc[0]\n"
   ]
  },
  {
   "cell_type": "code",
   "execution_count": 11,
   "metadata": {},
   "outputs": [
    {
     "name": "stdout",
     "output_type": "stream",
     "text": [
      "The first movie titled 'Hamlet' was made in 1910.\n"
     ]
    }
   ],
   "source": [
    "# Retrieve the year of the earliest movie titled \"Hamlet\"\n",
    "first_hamlet_year = earliest_hamlet_movie['year']\n",
    "\n",
    "print(f\"The first movie titled 'Hamlet' was made in {first_hamlet_year}.\")"
   ]
  },
  {
   "cell_type": "markdown",
   "metadata": {},
   "source": [
    "### 3. How many movies were made in the year 1950?"
   ]
  },
  {
   "cell_type": "code",
   "execution_count": 12,
   "metadata": {},
   "outputs": [],
   "source": [
    "# Filter titles DataFrame for movies made in the year 1950\n",
    "movies_1950 = titles[titles['year'] == 1950]"
   ]
  },
  {
   "cell_type": "code",
   "execution_count": 13,
   "metadata": {},
   "outputs": [
    {
     "name": "stdout",
     "output_type": "stream",
     "text": [
      "Number of movies made in the year 1950: 1099\n"
     ]
    }
   ],
   "source": [
    "# Count the number of movies made in 1950\n",
    "num_movies_1950 = movies_1950.shape[0]\n",
    "\n",
    "print(f\"Number of movies made in the year 1950: {num_movies_1950}\")"
   ]
  },
  {
   "cell_type": "markdown",
   "metadata": {},
   "source": [
    "### 4. How many movies were made from 1950 through 1959?"
   ]
  },
  {
   "cell_type": "code",
   "execution_count": 5,
   "metadata": {},
   "outputs": [],
   "source": [
    "# Filter titles DataFrame for movies made from 1950 through 1959\n",
    "movies_1950s = titles[(titles['year'] >= 1950) & (titles['year'] <= 1959)]"
   ]
  },
  {
   "cell_type": "code",
   "execution_count": 6,
   "metadata": {},
   "outputs": [
    {
     "name": "stdout",
     "output_type": "stream",
     "text": [
      "Number of movies made from 1950 through 1959: 12711\n"
     ]
    }
   ],
   "source": [
    "# Count the number of movies made from 1950 through 1959\n",
    "num_movies_1950s = movies_1950s.shape[0]\n",
    "\n",
    "print(f\"Number of movies made from 1950 through 1959: {num_movies_1950s}\")"
   ]
  },
  {
   "cell_type": "code",
   "execution_count": 5,
   "metadata": {},
   "outputs": [
    {
     "name": "stderr",
     "output_type": "stream",
     "text": [
      "C:\\Users\\a7902\\AppData\\Local\\Temp\\ipykernel_54104\\4086884845.py:2: FutureWarning: The argument 'infer_datetime_format' is deprecated and will be removed in a future version. A strict version of it is now the default, see https://pandas.pydata.org/pdeps/0004-consistent-to-datetime-parsing.html. You can safely remove this argument.\n",
      "  release_dates = pd.read_csv('release_dates.csv', index_col=None, parse_dates=['date'], infer_datetime_format=True)\n"
     ]
    },
    {
     "data": {
      "text/html": [
       "<div>\n",
       "<style scoped>\n",
       "    .dataframe tbody tr th:only-of-type {\n",
       "        vertical-align: middle;\n",
       "    }\n",
       "\n",
       "    .dataframe tbody tr th {\n",
       "        vertical-align: top;\n",
       "    }\n",
       "\n",
       "    .dataframe thead th {\n",
       "        text-align: right;\n",
       "    }\n",
       "</style>\n",
       "<table border=\"1\" class=\"dataframe\">\n",
       "  <thead>\n",
       "    <tr style=\"text-align: right;\">\n",
       "      <th></th>\n",
       "      <th>title</th>\n",
       "      <th>year</th>\n",
       "      <th>country</th>\n",
       "      <th>date</th>\n",
       "    </tr>\n",
       "  </thead>\n",
       "  <tbody>\n",
       "    <tr>\n",
       "      <th>0</th>\n",
       "      <td>#73, Shaanthi Nivaasa</td>\n",
       "      <td>2007</td>\n",
       "      <td>India</td>\n",
       "      <td>2007-06-15</td>\n",
       "    </tr>\n",
       "    <tr>\n",
       "      <th>1</th>\n",
       "      <td>#Beings</td>\n",
       "      <td>2015</td>\n",
       "      <td>Romania</td>\n",
       "      <td>2015-01-29</td>\n",
       "    </tr>\n",
       "    <tr>\n",
       "      <th>2</th>\n",
       "      <td>#Declimax</td>\n",
       "      <td>2018</td>\n",
       "      <td>Netherlands</td>\n",
       "      <td>2018-01-21</td>\n",
       "    </tr>\n",
       "    <tr>\n",
       "      <th>3</th>\n",
       "      <td>#Ewankosau saranghaeyo</td>\n",
       "      <td>2015</td>\n",
       "      <td>Philippines</td>\n",
       "      <td>2015-01-21</td>\n",
       "    </tr>\n",
       "    <tr>\n",
       "      <th>4</th>\n",
       "      <td>#Horror</td>\n",
       "      <td>2015</td>\n",
       "      <td>USA</td>\n",
       "      <td>2015-11-20</td>\n",
       "    </tr>\n",
       "  </tbody>\n",
       "</table>\n",
       "</div>"
      ],
      "text/plain": [
       "                    title  year      country       date\n",
       "0   #73, Shaanthi Nivaasa  2007        India 2007-06-15\n",
       "1                 #Beings  2015      Romania 2015-01-29\n",
       "2               #Declimax  2018  Netherlands 2018-01-21\n",
       "3  #Ewankosau saranghaeyo  2015  Philippines 2015-01-21\n",
       "4                 #Horror  2015          USA 2015-11-20"
      ]
     },
     "execution_count": 5,
     "metadata": {},
     "output_type": "execute_result"
    }
   ],
   "source": [
    "# release_dates = pd.read_csv('data/release_dates.csv', index_col=None, parse_dates=['date'], infer_datetime_format=True)\n",
    "release_dates = pd.read_csv('release_dates.csv', index_col=None, parse_dates=['date'], infer_datetime_format=True)\n",
    "                                                                 \n",
    "# release_dates.head()\n",
    "release_dates.head()"
   ]
  },
  {
   "cell_type": "markdown",
   "metadata": {},
   "source": [
    "### 5. In what years has a movie titled \"Batman\" been released?"
   ]
  },
  {
   "cell_type": "code",
   "execution_count": 9,
   "metadata": {},
   "outputs": [],
   "source": [
    "# Filter release_dates DataFrame for entries where the title is \"Batman\"\n",
    "batman_movies = release_dates[release_dates['title'] == 'Batman']"
   ]
  },
  {
   "cell_type": "code",
   "execution_count": 10,
   "metadata": {},
   "outputs": [],
   "source": [
    "# Extract the unique years in which \"Batman\" movies were released\n",
    "batman_years = batman_movies['date'].dt.year.unique()"
   ]
  },
  {
   "cell_type": "code",
   "execution_count": 11,
   "metadata": {},
   "outputs": [
    {
     "name": "stdout",
     "output_type": "stream",
     "text": [
      "Years in which a movie titled 'Batman' was released: [1943 1946 1950 1966 1989 1990 1992]\n"
     ]
    }
   ],
   "source": [
    "print(f\"Years in which a movie titled 'Batman' was released: {batman_years}\")"
   ]
  },
  {
   "cell_type": "markdown",
   "metadata": {},
   "source": [
    "### 6. How many roles were there in the movie \"Inception\"?"
   ]
  },
  {
   "cell_type": "code",
   "execution_count": 12,
   "metadata": {},
   "outputs": [],
   "source": [
    "# Filter cast DataFrame for entries where the title is \"Inception\"\n",
    "inception_roles = cast[cast['title'] == 'Inception']"
   ]
  },
  {
   "cell_type": "code",
   "execution_count": 13,
   "metadata": {},
   "outputs": [
    {
     "name": "stdout",
     "output_type": "stream",
     "text": [
      "Number of roles in the movie 'Inception': 55\n"
     ]
    }
   ],
   "source": [
    "# Count the number of unique roles in the \"Inception\" movie\n",
    "num_inception_roles = inception_roles['character'].nunique()\n",
    "\n",
    "print(f\"Number of roles in the movie 'Inception': {num_inception_roles}\")"
   ]
  },
  {
   "cell_type": "markdown",
   "metadata": {},
   "source": [
    "### 7. How many roles in the movie \"Inception\" are NOT ranked by an \"n\" value?"
   ]
  },
  {
   "cell_type": "code",
   "execution_count": 14,
   "metadata": {},
   "outputs": [],
   "source": [
    "# Filter cast DataFrame for entries where the title is \"Inception\" and 'n' value is NaN\n",
    "inception_roles_no_rank = cast[(cast['title'] == 'Inception') & (cast['n'].isna())]"
   ]
  },
  {
   "cell_type": "code",
   "execution_count": 15,
   "metadata": {},
   "outputs": [
    {
     "name": "stdout",
     "output_type": "stream",
     "text": [
      "Number of roles in the movie 'Inception' that are not ranked by 'n' value: 26\n"
     ]
    }
   ],
   "source": [
    "# Count the number of roles in \"Inception\" that are not ranked by 'n' value\n",
    "num_inception_roles_no_rank = inception_roles_no_rank.shape[0]\n",
    "\n",
    "print(f\"Number of roles in the movie 'Inception' that are not ranked by 'n' value: {num_inception_roles_no_rank}\")"
   ]
  },
  {
   "cell_type": "markdown",
   "metadata": {},
   "source": [
    "### 8. How many roles were credited in the silent 1921 version of Hamlet?\n",
    "\n",
    "> Hint: There are a lot of \"Hamlet\" films, we want 1921 only"
   ]
  },
  {
   "cell_type": "code",
   "execution_count": 16,
   "metadata": {},
   "outputs": [],
   "source": [
    "# Filter titles DataFrame for the silent 1921 version of \"Hamlet\"\n",
    "hamlet_1921 = titles[(titles['title'] == 'Hamlet') & (titles['year'] == 1921)]\n"
   ]
  },
  {
   "cell_type": "code",
   "execution_count": 17,
   "metadata": {},
   "outputs": [],
   "source": [
    "# Merge with cast DataFrame to get credits for the 1921 version of \"Hamlet\"\n",
    "hamlet_1921_credits = pd.merge(hamlet_1921, cast, on='title')"
   ]
  },
  {
   "cell_type": "code",
   "execution_count": 18,
   "metadata": {},
   "outputs": [
    {
     "name": "stdout",
     "output_type": "stream",
     "text": [
      "Number of roles credited in the silent 1921 version of 'Hamlet': 313\n"
     ]
    }
   ],
   "source": [
    "# Count the number of credited roles in the 1921 version of \"Hamlet\"\n",
    "num_hamlet_1921_roles = hamlet_1921_credits.shape[0]\n",
    "\n",
    "print(f\"Number of roles credited in the silent 1921 version of 'Hamlet': {num_hamlet_1921_roles}\")"
   ]
  },
  {
   "cell_type": "markdown",
   "metadata": {},
   "source": [
    "### 9. Display the cast of \"North by Northwest\" in their correct \"n\"-value order, ignoring roles that did not earn a numeric \"n\" value."
   ]
  },
  {
   "cell_type": "code",
   "execution_count": 19,
   "metadata": {},
   "outputs": [],
   "source": [
    "# Filter cast DataFrame for \"North by Northwest\" and non-null 'n' values\n",
    "north_by_northwest_cast = cast[(cast['title'] == 'North by Northwest') & (cast['n'].notna())]\n"
   ]
  },
  {
   "cell_type": "code",
   "execution_count": 20,
   "metadata": {},
   "outputs": [
    {
     "name": "stdout",
     "output_type": "stream",
     "text": [
      "            n                  name                    character\n",
      "845516    1.0            Cary Grant           Roger O. Thornhill\n",
      "3382934   2.0       Eva Marie Saint                  Eve Kendall\n",
      "1413409   3.0           James Mason              Phillip Vandamm\n",
      "3043261   4.0   Jessie Royce Landis              Clara Thornhill\n",
      "345822    5.0        Leo G. Carroll                The Professor\n",
      "2941468   6.0  Josephine Hutchinson                Mrs. Townsend\n",
      "1644542   7.0           Philip Ober              Lester Townsend\n",
      "1236791   8.0         Martin Landau                      Leonard\n",
      "2372617   9.0         Adam Williams                     Valerian\n",
      "1757154  10.0          Edward Platt              Victor Larrabee\n",
      "646039   11.0     Robert Ellenstein                        Licht\n",
      "2225858  12.0          Les Tremayne                   Auctioneer\n",
      "450691   13.0       Philip Coolidge                    Dr. Cross\n",
      "1463316  14.0         Patrick McVey               Sergeant Flamm\n",
      "199768   15.0          Edward Binns               Captain Junket\n",
      "1343025  16.0             Ken Lynch  Charley - Chicago Policeman\n"
     ]
    }
   ],
   "source": [
    "# Sort the cast by 'n' values to display in correct order\n",
    "north_by_northwest_cast_sorted = north_by_northwest_cast.sort_values(by='n')\n",
    "\n",
    "# Display the sorted cast\n",
    "print(north_by_northwest_cast_sorted[['n', 'name', 'character']])"
   ]
  },
  {
   "cell_type": "markdown",
   "metadata": {},
   "source": [
    "### 10. Display the entire cast, in \"n\"-order, of the 1972 film \"Sleuth\". \n",
    "\n",
    "> Hint: There is more than one movie titled \"Sleuth\", we want 1972 only"
   ]
  },
  {
   "cell_type": "code",
   "execution_count": 21,
   "metadata": {},
   "outputs": [],
   "source": [
    "# Filter cast DataFrame for the 1972 film \"Sleuth\" and non-null 'n' values\n",
    "sleuth_1972_cast = cast[(cast['title'] == 'Sleuth') & (cast['year'] == 1972) & (cast['n'].notna())]\n"
   ]
  },
  {
   "cell_type": "code",
   "execution_count": 22,
   "metadata": {},
   "outputs": [],
   "source": [
    "# Sort the cast by 'n' values to display in correct order\n",
    "sleuth_1972_cast_sorted = sleuth_1972_cast.sort_values(by='n')"
   ]
  },
  {
   "cell_type": "code",
   "execution_count": 23,
   "metadata": {},
   "outputs": [
    {
     "name": "stdout",
     "output_type": "stream",
     "text": [
      "           n                name                   character\n",
      "1654402  1.0    Laurence Olivier                 Andrew Wyke\n",
      "316652   2.0       Michael Caine                 Milo Tindle\n",
      "362592   3.0      Alec Cawthorne           Inspector Doppler\n",
      "1421434  4.0  John (II) Matthews  Detective Sergeant Tarrant\n",
      "2635708  5.0  Eve (III) Channing             Marguerite Wyke\n",
      "1405219  6.0        Teddy Martin      Police Constable Higgs\n"
     ]
    }
   ],
   "source": [
    "# Display the sorted cast\n",
    "print(sleuth_1972_cast_sorted[['n', 'name', 'character']])"
   ]
  },
  {
   "cell_type": "markdown",
   "metadata": {},
   "source": [
    "### 11. How many people have played an \"Ophelia\"?"
   ]
  },
  {
   "cell_type": "code",
   "execution_count": 9,
   "metadata": {},
   "outputs": [
    {
     "data": {
      "text/plain": [
       "109"
      ]
     },
     "execution_count": 9,
     "metadata": {},
     "output_type": "execute_result"
    }
   ],
   "source": [
    "# Filter the cast dataset to find all instances where the character is \"Ophelia\"\n",
    "ophelia_cast = cast[cast['character'].str.lower() == 'ophelia'.lower()]\n",
    "\n",
    "# Count the unique actors who have played \"Ophelia\"\n",
    "num_ophelias = ophelia_cast['name'].nunique()\n",
    "\n",
    "num_ophelias"
   ]
  },
  {
   "cell_type": "code",
   "execution_count": null,
   "metadata": {},
   "outputs": [],
   "source": []
  },
  {
   "cell_type": "markdown",
   "metadata": {},
   "source": [
    "### 12. How many roles has Sidney Poitier played throughout his career?"
   ]
  },
  {
   "cell_type": "code",
   "execution_count": 10,
   "metadata": {},
   "outputs": [
    {
     "data": {
      "text/plain": [
       "43"
      ]
     },
     "execution_count": 10,
     "metadata": {},
     "output_type": "execute_result"
    }
   ],
   "source": [
    "# Filter the cast dataset to find all instances where the actor is \"Sidney Poitier\"\n",
    "sidney_poitier_roles = cast[cast['name'].str.lower() == 'sidney poitier'.lower()]\n",
    "\n",
    "# Count the number of roles Sidney Poitier has played\n",
    "num_roles_sidney_poitier = sidney_poitier_roles.shape[0]\n",
    "\n",
    "num_roles_sidney_poitier"
   ]
  },
  {
   "cell_type": "code",
   "execution_count": null,
   "metadata": {},
   "outputs": [],
   "source": []
  },
  {
   "cell_type": "markdown",
   "metadata": {},
   "source": [
    "### 13. List the supporting roles (having n=2) played by Cary Grant in the 1940s, in order by year."
   ]
  },
  {
   "cell_type": "code",
   "execution_count": 12,
   "metadata": {},
   "outputs": [
    {
     "ename": "KeyError",
     "evalue": "'id'",
     "output_type": "error",
     "traceback": [
      "\u001b[1;31m---------------------------------------------------------------------------\u001b[0m",
      "\u001b[1;31mKeyError\u001b[0m                                  Traceback (most recent call last)",
      "\u001b[1;32m~\\AppData\\Local\\Temp\\ipykernel_54104\\748247641.py\u001b[0m in \u001b[0;36m?\u001b[1;34m()\u001b[0m\n\u001b[0;32m      4\u001b[0m \u001b[1;31m# Filter these entries to find supporting roles (n=2)\u001b[0m\u001b[1;33m\u001b[0m\u001b[1;33m\u001b[0m\u001b[0m\n\u001b[0;32m      5\u001b[0m \u001b[0mcary_grant_supporting_roles\u001b[0m \u001b[1;33m=\u001b[0m \u001b[0mcary_grant_roles\u001b[0m\u001b[1;33m[\u001b[0m\u001b[0mcary_grant_roles\u001b[0m\u001b[1;33m[\u001b[0m\u001b[1;34m'n'\u001b[0m\u001b[1;33m]\u001b[0m \u001b[1;33m==\u001b[0m \u001b[1;36m2\u001b[0m\u001b[1;33m]\u001b[0m\u001b[1;33m\u001b[0m\u001b[1;33m\u001b[0m\u001b[0m\n\u001b[0;32m      6\u001b[0m \u001b[1;33m\u001b[0m\u001b[0m\n\u001b[0;32m      7\u001b[0m \u001b[1;31m# Merge with the titles dataset to get the movie titles (assuming 'id' is the common column)\u001b[0m\u001b[1;33m\u001b[0m\u001b[1;33m\u001b[0m\u001b[0m\n\u001b[1;32m----> 8\u001b[1;33m \u001b[0mcary_grant_titles\u001b[0m \u001b[1;33m=\u001b[0m \u001b[0mcary_grant_supporting_roles\u001b[0m\u001b[1;33m.\u001b[0m\u001b[0mmerge\u001b[0m\u001b[1;33m(\u001b[0m\u001b[0mtitles\u001b[0m\u001b[1;33m,\u001b[0m \u001b[0mleft_on\u001b[0m\u001b[1;33m=\u001b[0m\u001b[1;34m'title'\u001b[0m\u001b[1;33m,\u001b[0m \u001b[0mright_on\u001b[0m\u001b[1;33m=\u001b[0m\u001b[1;34m'id'\u001b[0m\u001b[1;33m)\u001b[0m\u001b[1;33m\u001b[0m\u001b[1;33m\u001b[0m\u001b[0m\n\u001b[0m\u001b[0;32m      9\u001b[0m \u001b[1;33m\u001b[0m\u001b[0m\n\u001b[0;32m     10\u001b[0m \u001b[1;31m# Merge with the release_dates dataset to get the release years (assuming 'title' is the common column)\u001b[0m\u001b[1;33m\u001b[0m\u001b[1;33m\u001b[0m\u001b[0m\n\u001b[0;32m     11\u001b[0m \u001b[0mcary_grant_titles_with_dates\u001b[0m \u001b[1;33m=\u001b[0m \u001b[0mcary_grant_titles\u001b[0m\u001b[1;33m.\u001b[0m\u001b[0mmerge\u001b[0m\u001b[1;33m(\u001b[0m\u001b[0mrelease_dates\u001b[0m\u001b[1;33m,\u001b[0m \u001b[0mleft_on\u001b[0m\u001b[1;33m=\u001b[0m\u001b[1;34m'title'\u001b[0m\u001b[1;33m,\u001b[0m \u001b[0mright_on\u001b[0m\u001b[1;33m=\u001b[0m\u001b[1;34m'title'\u001b[0m\u001b[1;33m)\u001b[0m\u001b[1;33m\u001b[0m\u001b[1;33m\u001b[0m\u001b[0m\n",
      "\u001b[1;32mc:\\Users\\a7902\\anaconda3\\Lib\\site-packages\\pandas\\core\\frame.py\u001b[0m in \u001b[0;36m?\u001b[1;34m(self, right, how, on, left_on, right_on, left_index, right_index, sort, suffixes, copy, indicator, validate)\u001b[0m\n\u001b[0;32m  10483\u001b[0m         \u001b[0mvalidate\u001b[0m\u001b[1;33m:\u001b[0m \u001b[0mMergeValidate\u001b[0m \u001b[1;33m|\u001b[0m \u001b[1;32mNone\u001b[0m \u001b[1;33m=\u001b[0m \u001b[1;32mNone\u001b[0m\u001b[1;33m,\u001b[0m\u001b[1;33m\u001b[0m\u001b[1;33m\u001b[0m\u001b[0m\n\u001b[0;32m  10484\u001b[0m     ) -> DataFrame:\n\u001b[0;32m  10485\u001b[0m         \u001b[1;32mfrom\u001b[0m \u001b[0mpandas\u001b[0m\u001b[1;33m.\u001b[0m\u001b[0mcore\u001b[0m\u001b[1;33m.\u001b[0m\u001b[0mreshape\u001b[0m\u001b[1;33m.\u001b[0m\u001b[0mmerge\u001b[0m \u001b[1;32mimport\u001b[0m \u001b[0mmerge\u001b[0m\u001b[1;33m\u001b[0m\u001b[1;33m\u001b[0m\u001b[0m\n\u001b[0;32m  10486\u001b[0m \u001b[1;33m\u001b[0m\u001b[0m\n\u001b[1;32m> 10487\u001b[1;33m         return merge(\n\u001b[0m\u001b[0;32m  10488\u001b[0m             \u001b[0mself\u001b[0m\u001b[1;33m,\u001b[0m\u001b[1;33m\u001b[0m\u001b[1;33m\u001b[0m\u001b[0m\n\u001b[0;32m  10489\u001b[0m             \u001b[0mright\u001b[0m\u001b[1;33m,\u001b[0m\u001b[1;33m\u001b[0m\u001b[1;33m\u001b[0m\u001b[0m\n\u001b[0;32m  10490\u001b[0m             \u001b[0mhow\u001b[0m\u001b[1;33m=\u001b[0m\u001b[0mhow\u001b[0m\u001b[1;33m,\u001b[0m\u001b[1;33m\u001b[0m\u001b[1;33m\u001b[0m\u001b[0m\n",
      "\u001b[1;32mc:\\Users\\a7902\\anaconda3\\Lib\\site-packages\\pandas\\core\\reshape\\merge.py\u001b[0m in \u001b[0;36m?\u001b[1;34m(left, right, how, on, left_on, right_on, left_index, right_index, sort, suffixes, copy, indicator, validate)\u001b[0m\n\u001b[0;32m    165\u001b[0m             \u001b[0mvalidate\u001b[0m\u001b[1;33m=\u001b[0m\u001b[0mvalidate\u001b[0m\u001b[1;33m,\u001b[0m\u001b[1;33m\u001b[0m\u001b[1;33m\u001b[0m\u001b[0m\n\u001b[0;32m    166\u001b[0m             \u001b[0mcopy\u001b[0m\u001b[1;33m=\u001b[0m\u001b[0mcopy\u001b[0m\u001b[1;33m,\u001b[0m\u001b[1;33m\u001b[0m\u001b[1;33m\u001b[0m\u001b[0m\n\u001b[0;32m    167\u001b[0m         )\n\u001b[0;32m    168\u001b[0m     \u001b[1;32melse\u001b[0m\u001b[1;33m:\u001b[0m\u001b[1;33m\u001b[0m\u001b[1;33m\u001b[0m\u001b[0m\n\u001b[1;32m--> 169\u001b[1;33m         op = _MergeOperation(\n\u001b[0m\u001b[0;32m    170\u001b[0m             \u001b[0mleft_df\u001b[0m\u001b[1;33m,\u001b[0m\u001b[1;33m\u001b[0m\u001b[1;33m\u001b[0m\u001b[0m\n\u001b[0;32m    171\u001b[0m             \u001b[0mright_df\u001b[0m\u001b[1;33m,\u001b[0m\u001b[1;33m\u001b[0m\u001b[1;33m\u001b[0m\u001b[0m\n\u001b[0;32m    172\u001b[0m             \u001b[0mhow\u001b[0m\u001b[1;33m=\u001b[0m\u001b[0mhow\u001b[0m\u001b[1;33m,\u001b[0m\u001b[1;33m\u001b[0m\u001b[1;33m\u001b[0m\u001b[0m\n",
      "\u001b[1;32mc:\\Users\\a7902\\anaconda3\\Lib\\site-packages\\pandas\\core\\reshape\\merge.py\u001b[0m in \u001b[0;36m?\u001b[1;34m(self, left, right, how, on, left_on, right_on, left_index, right_index, sort, suffixes, indicator, validate)\u001b[0m\n\u001b[0;32m    787\u001b[0m             \u001b[0mself\u001b[0m\u001b[1;33m.\u001b[0m\u001b[0mright_join_keys\u001b[0m\u001b[1;33m,\u001b[0m\u001b[1;33m\u001b[0m\u001b[1;33m\u001b[0m\u001b[0m\n\u001b[0;32m    788\u001b[0m             \u001b[0mself\u001b[0m\u001b[1;33m.\u001b[0m\u001b[0mjoin_names\u001b[0m\u001b[1;33m,\u001b[0m\u001b[1;33m\u001b[0m\u001b[1;33m\u001b[0m\u001b[0m\n\u001b[0;32m    789\u001b[0m             \u001b[0mleft_drop\u001b[0m\u001b[1;33m,\u001b[0m\u001b[1;33m\u001b[0m\u001b[1;33m\u001b[0m\u001b[0m\n\u001b[0;32m    790\u001b[0m             \u001b[0mright_drop\u001b[0m\u001b[1;33m,\u001b[0m\u001b[1;33m\u001b[0m\u001b[1;33m\u001b[0m\u001b[0m\n\u001b[1;32m--> 791\u001b[1;33m         ) = self._get_merge_keys()\n\u001b[0m\u001b[0;32m    792\u001b[0m \u001b[1;33m\u001b[0m\u001b[0m\n\u001b[0;32m    793\u001b[0m         \u001b[1;32mif\u001b[0m \u001b[0mleft_drop\u001b[0m\u001b[1;33m:\u001b[0m\u001b[1;33m\u001b[0m\u001b[1;33m\u001b[0m\u001b[0m\n\u001b[0;32m    794\u001b[0m             \u001b[0mself\u001b[0m\u001b[1;33m.\u001b[0m\u001b[0mleft\u001b[0m \u001b[1;33m=\u001b[0m \u001b[0mself\u001b[0m\u001b[1;33m.\u001b[0m\u001b[0mleft\u001b[0m\u001b[1;33m.\u001b[0m\u001b[0m_drop_labels_or_levels\u001b[0m\u001b[1;33m(\u001b[0m\u001b[0mleft_drop\u001b[0m\u001b[1;33m)\u001b[0m\u001b[1;33m\u001b[0m\u001b[1;33m\u001b[0m\u001b[0m\n",
      "\u001b[1;32mc:\\Users\\a7902\\anaconda3\\Lib\\site-packages\\pandas\\core\\reshape\\merge.py\u001b[0m in \u001b[0;36m?\u001b[1;34m(self)\u001b[0m\n\u001b[0;32m   1265\u001b[0m                         \u001b[1;31m# Then we're either Hashable or a wrong-length arraylike,\u001b[0m\u001b[1;33m\u001b[0m\u001b[1;33m\u001b[0m\u001b[0m\n\u001b[0;32m   1266\u001b[0m                         \u001b[1;31m#  the latter of which will raise\u001b[0m\u001b[1;33m\u001b[0m\u001b[1;33m\u001b[0m\u001b[0m\n\u001b[0;32m   1267\u001b[0m                         \u001b[0mrk\u001b[0m \u001b[1;33m=\u001b[0m \u001b[0mcast\u001b[0m\u001b[1;33m(\u001b[0m\u001b[0mHashable\u001b[0m\u001b[1;33m,\u001b[0m \u001b[0mrk\u001b[0m\u001b[1;33m)\u001b[0m\u001b[1;33m\u001b[0m\u001b[1;33m\u001b[0m\u001b[0m\n\u001b[0;32m   1268\u001b[0m                         \u001b[1;32mif\u001b[0m \u001b[0mrk\u001b[0m \u001b[1;32mis\u001b[0m \u001b[1;32mnot\u001b[0m \u001b[1;32mNone\u001b[0m\u001b[1;33m:\u001b[0m\u001b[1;33m\u001b[0m\u001b[1;33m\u001b[0m\u001b[0m\n\u001b[1;32m-> 1269\u001b[1;33m                             \u001b[0mright_keys\u001b[0m\u001b[1;33m.\u001b[0m\u001b[0mappend\u001b[0m\u001b[1;33m(\u001b[0m\u001b[0mright\u001b[0m\u001b[1;33m.\u001b[0m\u001b[0m_get_label_or_level_values\u001b[0m\u001b[1;33m(\u001b[0m\u001b[0mrk\u001b[0m\u001b[1;33m)\u001b[0m\u001b[1;33m)\u001b[0m\u001b[1;33m\u001b[0m\u001b[1;33m\u001b[0m\u001b[0m\n\u001b[0m\u001b[0;32m   1270\u001b[0m                         \u001b[1;32melse\u001b[0m\u001b[1;33m:\u001b[0m\u001b[1;33m\u001b[0m\u001b[1;33m\u001b[0m\u001b[0m\n\u001b[0;32m   1271\u001b[0m                             \u001b[1;31m# work-around for merge_asof(right_index=True)\u001b[0m\u001b[1;33m\u001b[0m\u001b[1;33m\u001b[0m\u001b[0m\n\u001b[0;32m   1272\u001b[0m                             \u001b[0mright_keys\u001b[0m\u001b[1;33m.\u001b[0m\u001b[0mappend\u001b[0m\u001b[1;33m(\u001b[0m\u001b[0mright\u001b[0m\u001b[1;33m.\u001b[0m\u001b[0mindex\u001b[0m\u001b[1;33m.\u001b[0m\u001b[0m_values\u001b[0m\u001b[1;33m)\u001b[0m\u001b[1;33m\u001b[0m\u001b[1;33m\u001b[0m\u001b[0m\n",
      "\u001b[1;32mc:\\Users\\a7902\\anaconda3\\Lib\\site-packages\\pandas\\core\\generic.py\u001b[0m in \u001b[0;36m?\u001b[1;34m(self, key, axis)\u001b[0m\n\u001b[0;32m   1840\u001b[0m             \u001b[0mvalues\u001b[0m \u001b[1;33m=\u001b[0m \u001b[0mself\u001b[0m\u001b[1;33m.\u001b[0m\u001b[0mxs\u001b[0m\u001b[1;33m(\u001b[0m\u001b[0mkey\u001b[0m\u001b[1;33m,\u001b[0m \u001b[0maxis\u001b[0m\u001b[1;33m=\u001b[0m\u001b[0mother_axes\u001b[0m\u001b[1;33m[\u001b[0m\u001b[1;36m0\u001b[0m\u001b[1;33m]\u001b[0m\u001b[1;33m)\u001b[0m\u001b[1;33m.\u001b[0m\u001b[0m_values\u001b[0m\u001b[1;33m\u001b[0m\u001b[1;33m\u001b[0m\u001b[0m\n\u001b[0;32m   1841\u001b[0m         \u001b[1;32melif\u001b[0m \u001b[0mself\u001b[0m\u001b[1;33m.\u001b[0m\u001b[0m_is_level_reference\u001b[0m\u001b[1;33m(\u001b[0m\u001b[0mkey\u001b[0m\u001b[1;33m,\u001b[0m \u001b[0maxis\u001b[0m\u001b[1;33m=\u001b[0m\u001b[0maxis\u001b[0m\u001b[1;33m)\u001b[0m\u001b[1;33m:\u001b[0m\u001b[1;33m\u001b[0m\u001b[1;33m\u001b[0m\u001b[0m\n\u001b[0;32m   1842\u001b[0m             \u001b[0mvalues\u001b[0m \u001b[1;33m=\u001b[0m \u001b[0mself\u001b[0m\u001b[1;33m.\u001b[0m\u001b[0maxes\u001b[0m\u001b[1;33m[\u001b[0m\u001b[0maxis\u001b[0m\u001b[1;33m]\u001b[0m\u001b[1;33m.\u001b[0m\u001b[0mget_level_values\u001b[0m\u001b[1;33m(\u001b[0m\u001b[0mkey\u001b[0m\u001b[1;33m)\u001b[0m\u001b[1;33m.\u001b[0m\u001b[0m_values\u001b[0m\u001b[1;33m\u001b[0m\u001b[1;33m\u001b[0m\u001b[0m\n\u001b[0;32m   1843\u001b[0m         \u001b[1;32melse\u001b[0m\u001b[1;33m:\u001b[0m\u001b[1;33m\u001b[0m\u001b[1;33m\u001b[0m\u001b[0m\n\u001b[1;32m-> 1844\u001b[1;33m             \u001b[1;32mraise\u001b[0m \u001b[0mKeyError\u001b[0m\u001b[1;33m(\u001b[0m\u001b[0mkey\u001b[0m\u001b[1;33m)\u001b[0m\u001b[1;33m\u001b[0m\u001b[1;33m\u001b[0m\u001b[0m\n\u001b[0m\u001b[0;32m   1845\u001b[0m \u001b[1;33m\u001b[0m\u001b[0m\n\u001b[0;32m   1846\u001b[0m         \u001b[1;31m# Check for duplicates\u001b[0m\u001b[1;33m\u001b[0m\u001b[1;33m\u001b[0m\u001b[0m\n\u001b[0;32m   1847\u001b[0m         \u001b[1;32mif\u001b[0m \u001b[0mvalues\u001b[0m\u001b[1;33m.\u001b[0m\u001b[0mndim\u001b[0m \u001b[1;33m>\u001b[0m \u001b[1;36m1\u001b[0m\u001b[1;33m:\u001b[0m\u001b[1;33m\u001b[0m\u001b[1;33m\u001b[0m\u001b[0m\n",
      "\u001b[1;31mKeyError\u001b[0m: 'id'"
     ]
    }
   ],
   "source": [
    "# Filter the cast dataset to find all instances where the actor is \"Cary Grant\"\n",
    "cary_grant_roles = cast[cast['name'].str.lower() == 'cary grant'.lower()]\n",
    "\n",
    "# Filter these entries to find supporting roles (n=2)\n",
    "cary_grant_supporting_roles = cary_grant_roles[cary_grant_roles['n'] == 2]\n",
    "\n",
    "# Merge with the titles dataset to get the movie titles (assuming 'id' is the common column)\n",
    "cary_grant_titles = cary_grant_supporting_roles.merge(titles, left_on='title', right_on='id')\n",
    "\n",
    "# Merge with the release_dates dataset to get the release years (assuming 'title' is the common column)\n",
    "cary_grant_titles_with_dates = cary_grant_titles.merge(release_dates, left_on='title', right_on='title')\n",
    "\n",
    "# Filter the results to only include movies from the 1940s\n",
    "cary_grant_1940s = cary_grant_titles_with_dates[(cary_grant_titles_with_dates['date'].dt.year >= 1940) & (cary_grant_titles_with_dates['date'].dt.year < 1950)]\n",
    "\n",
    "# Sort the results by year\n",
    "cary_grant_1940s_sorted = cary_grant_1940s.sort_values(by='date')\n",
    "\n",
    "# Select the relevant columns and display the results\n",
    "supporting_roles_1940s = cary_grant_1940s_sorted[['title', 'character', 'date']]\n",
    "print(supporting_roles_1940s)"
   ]
  },
  {
   "cell_type": "code",
   "execution_count": null,
   "metadata": {},
   "outputs": [],
   "source": []
  },
  {
   "cell_type": "markdown",
   "metadata": {},
   "source": [
    "### 14. How many roles were avilable for actresses in the 1950s?"
   ]
  },
  {
   "cell_type": "code",
   "execution_count": 13,
   "metadata": {},
   "outputs": [
    {
     "name": "stdout",
     "output_type": "stream",
     "text": [
      "Index(['title', 'year', 'name', 'type', 'character', 'n'], dtype='object')\n"
     ]
    },
    {
     "data": {
      "text/plain": [
       "175182"
      ]
     },
     "execution_count": 13,
     "metadata": {},
     "output_type": "execute_result"
    }
   ],
   "source": [
    "# Check the column names in the cast dataset to determine how to filter for actresses\n",
    "print(cast.columns)\n",
    "\n",
    "# Assuming the 'type' or similar column distinguishes between actors and actresses\n",
    "# If not available, this part should be skipped or adjusted accordingly\n",
    "\n",
    "# Merge the cast dataset with the release_dates dataset to get the release years\n",
    "cast_with_dates = cast.merge(release_dates, left_on='title', right_on='title')\n",
    "\n",
    "# Filter the merged dataset to include only the 1950s\n",
    "cast_1950s = cast_with_dates[(cast_with_dates['date'].dt.year >= 1950) & (cast_with_dates['date'].dt.year < 1960)]\n",
    "\n",
    "# Assuming there's no direct column indicating 'actress', we need to infer this from the name (if needed)\n",
    "# Here, we assume the cast dataset has no direct gender indicator, so we use all entries\n",
    "\n",
    "# Count the number of unique roles available in this period\n",
    "num_roles_actresses_1950s = cast_1950s['character'].nunique()\n",
    "\n",
    "num_roles_actresses_1950s"
   ]
  },
  {
   "cell_type": "code",
   "execution_count": 14,
   "metadata": {},
   "outputs": [
    {
     "data": {
      "text/plain": [
       "45251"
      ]
     },
     "execution_count": 14,
     "metadata": {},
     "output_type": "execute_result"
    }
   ],
   "source": [
    "# Filter the cast dataset to include only leading roles (n=1)\n",
    "leading_roles = cast[cast['n'] == 1]\n",
    "\n",
    "# Merge the leading roles dataset with the release_dates dataset to get the release years\n",
    "leading_roles_with_dates = leading_roles.merge(release_dates, left_on='title', right_on='title')\n",
    "\n",
    "# Filter the merged dataset to include only movies released up to 1980\n",
    "leading_roles_to_1980 = leading_roles_with_dates[leading_roles_with_dates['date'].dt.year <= 1980]\n",
    "\n",
    "# Count the number of unique leading roles available in this period\n",
    "num_leading_roles_to_1980 = leading_roles_to_1980['character'].nunique()\n",
    "\n",
    "num_leading_roles_to_1980\n"
   ]
  },
  {
   "cell_type": "markdown",
   "metadata": {},
   "source": [
    "### 15. How many leading roles (n=1) were available from the beginning of film history through 1980?"
   ]
  },
  {
   "cell_type": "code",
   "execution_count": 15,
   "metadata": {},
   "outputs": [
    {
     "data": {
      "text/plain": [
       "200460"
      ]
     },
     "execution_count": 15,
     "metadata": {},
     "output_type": "execute_result"
    }
   ],
   "source": [
    "# Filter the cast dataset to include only leading roles (n=1)\n",
    "leading_roles = cast[cast['n'] == 1]\n",
    "\n",
    "# Merge the leading roles dataset with the release_dates dataset to get the release years\n",
    "leading_roles_with_dates = leading_roles.merge(release_dates, left_on='title', right_on='title')\n",
    "\n",
    "# Filter the merged dataset to include only movies released up to 1980\n",
    "leading_roles_to_1980 = leading_roles_with_dates[leading_roles_with_dates['date'].dt.year <= 1980]\n",
    "\n",
    "# Count the number of unique leading roles available in this period\n",
    "num_leading_roles_to_1980 = leading_roles_to_1980.shape[0]\n",
    "\n",
    "num_leading_roles_to_1980"
   ]
  },
  {
   "cell_type": "code",
   "execution_count": null,
   "metadata": {},
   "outputs": [],
   "source": []
  },
  {
   "cell_type": "markdown",
   "metadata": {},
   "source": [
    "### 16. Which three years in the 1930s saw the most films released?"
   ]
  },
  {
   "cell_type": "code",
   "execution_count": 16,
   "metadata": {
    "collapsed": true,
    "jupyter": {
     "outputs_hidden": true
    }
   },
   "outputs": [
    {
     "data": {
      "text/plain": [
       "date\n",
       "1938    2706\n",
       "1937    2690\n",
       "1936    2516\n",
       "Name: count, dtype: int64"
      ]
     },
     "execution_count": 16,
     "metadata": {},
     "output_type": "execute_result"
    }
   ],
   "source": [
    "# Filter the release_dates dataset to include only films released in the 1930s\n",
    "films_1930s = release_dates[(release_dates['date'].dt.year >= 1930) & (release_dates['date'].dt.year < 1940)]\n",
    "\n",
    "# Count the number of films released each year in the 1930s\n",
    "films_per_year_1930s = films_1930s['date'].dt.year.value_counts().sort_index()\n",
    "\n",
    "# Identify the top three years with the most films released\n",
    "top_three_years_1930s = films_per_year_1930s.nlargest(3)\n",
    "\n",
    "top_three_years_1930s"
   ]
  },
  {
   "cell_type": "code",
   "execution_count": null,
   "metadata": {
    "collapsed": true,
    "jupyter": {
     "outputs_hidden": true
    }
   },
   "outputs": [],
   "source": []
  },
  {
   "cell_type": "markdown",
   "metadata": {},
   "source": [
    "### 17. Count the number of \"Hamlet\" films made in each decade.\n",
    "\n",
    "> Hint: You can use the same approach to finding the decade as you did in `01-Accessing`"
   ]
  },
  {
   "cell_type": "code",
   "execution_count": 18,
   "metadata": {},
   "outputs": [
    {
     "data": {
      "text/plain": [
       "decade\n",
       "1910     72\n",
       "1920     90\n",
       "1940    198\n",
       "1950     36\n",
       "1970     54\n",
       "1990    702\n",
       "2000    252\n",
       "2010     36\n",
       "Name: count, dtype: int64"
      ]
     },
     "execution_count": 18,
     "metadata": {},
     "output_type": "execute_result"
    }
   ],
   "source": [
    "# Filter the titles dataset to include only movies titled \"Hamlet\"\n",
    "hamlet_movies = titles[titles['title'].str.lower() == 'hamlet']\n",
    "\n",
    "# Merge with release_dates to get the release years\n",
    "# Assuming the title column in titles matches with title in release_dates\n",
    "hamlet_movies_with_dates = hamlet_movies.merge(release_dates, left_on='title', right_on='title')\n",
    "\n",
    "# Function to determine the decade from a given year\n",
    "def get_decade(year):\n",
    "    return year // 10 * 10\n",
    "\n",
    "# Apply the function to create a 'decade' column\n",
    "hamlet_movies_with_dates['decade'] = hamlet_movies_with_dates['date'].dt.year.apply(get_decade)\n",
    "\n",
    "# Count the number of \"Hamlet\" films made in each decade\n",
    "hamlet_films_per_decade = hamlet_movies_with_dates['decade'].value_counts().sort_index()\n",
    "\n",
    "hamlet_films_per_decade"
   ]
  },
  {
   "cell_type": "code",
   "execution_count": null,
   "metadata": {},
   "outputs": [],
   "source": []
  },
  {
   "cell_type": "markdown",
   "metadata": {},
   "source": [
    "### 18. Count the number of \"Rustler\" characters in each decade of the history of film."
   ]
  },
  {
   "cell_type": "code",
   "execution_count": 20,
   "metadata": {
    "collapsed": true,
    "jupyter": {
     "outputs_hidden": true
    }
   },
   "outputs": [
    {
     "name": "stdout",
     "output_type": "stream",
     "text": [
      "Index(['title', 'year', 'name', 'type', 'character', 'n'], dtype='object')\n"
     ]
    },
    {
     "data": {
      "text/plain": [
       "decade\n",
       "1910      1\n",
       "1920     13\n",
       "1930    145\n",
       "1940     74\n",
       "1950     31\n",
       "1960     22\n",
       "1970    144\n",
       "1980     17\n",
       "1990     11\n",
       "2000     62\n",
       "2010    340\n",
       "Name: count, dtype: int64"
      ]
     },
     "execution_count": 20,
     "metadata": {},
     "output_type": "execute_result"
    }
   ],
   "source": [
    "# Check the column names in the cast dataset to find the correct column for movie titles\n",
    "print(cast.columns)\n",
    "\n",
    "# Filter the cast dataset to include only characters named \"Rustler\"\n",
    "rustler_characters = cast[cast['character'].str.lower() == 'rustler']\n",
    "\n",
    "# Merge with release_dates to get the release years\n",
    "# Assuming the title column in cast matches with title in release_dates\n",
    "rustler_characters_with_dates = rustler_characters.merge(release_dates, left_on='title', right_on='title')\n",
    "\n",
    "# Function to determine the decade from a given year\n",
    "def get_decade(year):\n",
    "    return year // 10 * 10\n",
    "\n",
    "# Apply the function to create a 'decade' column\n",
    "rustler_characters_with_dates['decade'] = rustler_characters_with_dates['date'].dt.year.apply(get_decade)\n",
    "\n",
    "# Count the number of \"Rustler\" characters in each decade\n",
    "rustler_characters_per_decade = rustler_characters_with_dates['decade'].value_counts().sort_index()\n",
    "\n",
    "rustler_characters_per_decade"
   ]
  },
  {
   "cell_type": "code",
   "execution_count": null,
   "metadata": {
    "collapsed": true,
    "jupyter": {
     "outputs_hidden": true
    }
   },
   "outputs": [],
   "source": []
  },
  {
   "cell_type": "markdown",
   "metadata": {},
   "source": [
    "### 19. Who are the 10 people most often credited as \"Herself\" in film history?"
   ]
  },
  {
   "cell_type": "code",
   "execution_count": 21,
   "metadata": {
    "collapsed": true,
    "jupyter": {
     "outputs_hidden": true
    }
   },
   "outputs": [
    {
     "data": {
      "text/plain": [
       "name\n",
       "Queen Elizabeth II    11\n",
       "Joyce Brothers         9\n",
       "Margaret Thatcher      8\n",
       "Mary Jo Pehl           7\n",
       "Hillary Clinton        7\n",
       "Joan Rivers            6\n",
       "Sumie Sakai            6\n",
       "Marilyn Monroe         5\n",
       "Bunny Yeager           5\n",
       "Caroline Rhea          5\n",
       "Name: count, dtype: int64"
      ]
     },
     "execution_count": 21,
     "metadata": {},
     "output_type": "execute_result"
    }
   ],
   "source": [
    "# Filter the cast dataset to include only entries where the character is \"Herself\"\n",
    "herself_credits = cast[cast['character'].str.lower() == 'herself']\n",
    "\n",
    "# Count the occurrences of each person credited as \"Herself\"\n",
    "top_herself_credits = herself_credits['name'].value_counts().head(10)\n",
    "\n",
    "top_herself_credits"
   ]
  },
  {
   "cell_type": "code",
   "execution_count": null,
   "metadata": {
    "collapsed": true,
    "jupyter": {
     "outputs_hidden": true
    }
   },
   "outputs": [],
   "source": []
  },
  {
   "cell_type": "markdown",
   "metadata": {},
   "source": [
    "### 20. Which actors or actresses appeared in the most movies in the year 1945?"
   ]
  },
  {
   "cell_type": "code",
   "execution_count": 23,
   "metadata": {
    "collapsed": true,
    "jupyter": {
     "outputs_hidden": true
    }
   },
   "outputs": [
    {
     "data": {
      "text/plain": [
       "name\n",
       "Bess Flowers       132\n",
       "Emmett Vogan       130\n",
       "Sam (II) Harris    125\n",
       "Eddie Hall         108\n",
       "Cyril Ring         106\n",
       "Larry Steers        98\n",
       "Byron Foulger       93\n",
       "Harold Miller       89\n",
       "James Flavin        88\n",
       "James Conaty        83\n",
       "Name: count, dtype: int64"
      ]
     },
     "execution_count": 23,
     "metadata": {},
     "output_type": "execute_result"
    }
   ],
   "source": [
    "# Filter the release_dates dataset to include only movies released in 1945\n",
    "movies_1945 = release_dates[release_dates['date'].dt.year == 1945]\n",
    "\n",
    "# Merge with cast to get the cast information for movies released in 1945\n",
    "# Assuming the title column in release_dates matches with title in cast\n",
    "movies_1945_cast = movies_1945.merge(cast, left_on='title', right_on='title')\n",
    "\n",
    "# Count the appearances of each actor or actress in the merged dataset\n",
    "top_actors_1945 = movies_1945_cast['name'].value_counts().head(10)\n",
    "\n",
    "top_actors_1945"
   ]
  },
  {
   "cell_type": "code",
   "execution_count": null,
   "metadata": {
    "collapsed": true,
    "jupyter": {
     "outputs_hidden": true
    }
   },
   "outputs": [],
   "source": []
  },
  {
   "cell_type": "markdown",
   "metadata": {},
   "source": [
    "### 21. What are the 10 most frequent roles that start with the phrase \"Patron in\"?"
   ]
  },
  {
   "cell_type": "code",
   "execution_count": 25,
   "metadata": {
    "collapsed": true,
    "jupyter": {
     "outputs_hidden": true
    }
   },
   "outputs": [
    {
     "data": {
      "text/plain": [
       "character\n",
       "Patron in Frisky Rabbit         16\n",
       "Patron in Chinese Restaurant     9\n",
       "Patron in the Coffee House       9\n",
       "Patron in Billiard Parlor        5\n",
       "Patron in Bar                    4\n",
       "Patron in restaurant             4\n",
       "Patron in cabaret                3\n",
       "Patron in Restaurant             3\n",
       "Patron in Club                   3\n",
       "Patron in Quiet Bar              2\n",
       "Name: count, dtype: int64"
      ]
     },
     "execution_count": 25,
     "metadata": {},
     "output_type": "execute_result"
    }
   ],
   "source": [
    "# Drop rows where 'character' column is NaN\n",
    "cast = cast.dropna(subset=['character'])\n",
    "\n",
    "# Filter the cast dataset to include only roles that start with \"Patron in\"\n",
    "patron_roles = cast[cast['character'].str.startswith('Patron in')]\n",
    "\n",
    "# Count the occurrences of each role\n",
    "top_patron_roles = patron_roles['character'].value_counts().head(10)\n",
    "\n",
    "top_patron_roles"
   ]
  },
  {
   "cell_type": "code",
   "execution_count": null,
   "metadata": {
    "collapsed": true,
    "jupyter": {
     "outputs_hidden": true
    }
   },
   "outputs": [],
   "source": []
  },
  {
   "cell_type": "markdown",
   "metadata": {},
   "source": [
    "### 22. Count number of n-values of the roles that Judi Dench has played over her career."
   ]
  },
  {
   "cell_type": "code",
   "execution_count": 26,
   "metadata": {},
   "outputs": [
    {
     "data": {
      "text/plain": [
       "n\n",
       "3.0     6\n",
       "1.0     6\n",
       "2.0     6\n",
       "4.0     4\n",
       "7.0     4\n",
       "6.0     4\n",
       "12.0    3\n",
       "18.0    2\n",
       "13.0    2\n",
       "16.0    2\n",
       "5.0     2\n",
       "8.0     1\n",
       "26.0    1\n",
       "23.0    1\n",
       "20.0    1\n",
       "40.0    1\n",
       "29.0    1\n",
       "9.0     1\n",
       "Name: count, dtype: int64"
      ]
     },
     "execution_count": 26,
     "metadata": {},
     "output_type": "execute_result"
    }
   ],
   "source": [
    "# Filter the cast dataset to include only entries where name is \"Judi Dench\"\n",
    "judi_dench_roles = cast[cast['name'] == 'Judi Dench']\n",
    "\n",
    "# Count the occurrences of each unique n-value\n",
    "n_value_counts = judi_dench_roles['n'].value_counts()\n",
    "\n",
    "n_value_counts"
   ]
  },
  {
   "cell_type": "code",
   "execution_count": null,
   "metadata": {
    "collapsed": true,
    "jupyter": {
     "outputs_hidden": true
    }
   },
   "outputs": [],
   "source": []
  },
  {
   "cell_type": "markdown",
   "metadata": {},
   "source": [
    "### 23. How many leading (n=1) roles were available to actors, and how many to actresses, in the 1950s?"
   ]
  },
  {
   "cell_type": "code",
   "execution_count": 27,
   "metadata": {
    "collapsed": true,
    "jupyter": {
     "outputs_hidden": true
    }
   },
   "outputs": [
    {
     "data": {
      "text/plain": [
       "(6616, 2965)"
      ]
     },
     "execution_count": 27,
     "metadata": {},
     "output_type": "execute_result"
    }
   ],
   "source": [
    "# Filter the cast dataset for leading roles (n=1) in the 1950s\n",
    "leading_roles_1950s = cast[(cast['n'] == 1) & (cast['year'] // 10 == 195)]\n",
    "\n",
    "# Count the number of leading roles available to actors\n",
    "leading_roles_actors = leading_roles_1950s[leading_roles_1950s['type'] == 'actor'].shape[0]\n",
    "\n",
    "# Count the number of leading roles available to actresses\n",
    "leading_roles_actresses = leading_roles_1950s[leading_roles_1950s['type'] == 'actress'].shape[0]\n",
    "\n",
    "leading_roles_actors, leading_roles_actresses"
   ]
  },
  {
   "cell_type": "code",
   "execution_count": null,
   "metadata": {
    "collapsed": true,
    "jupyter": {
     "outputs_hidden": true
    }
   },
   "outputs": [],
   "source": []
  }
 ],
 "metadata": {
  "kernelspec": {
   "display_name": "THE_ONE",
   "language": "python",
   "name": "the_one"
  },
  "language_info": {
   "codemirror_mode": {
    "name": "ipython",
    "version": 3
   },
   "file_extension": ".py",
   "mimetype": "text/x-python",
   "name": "python",
   "nbconvert_exporter": "python",
   "pygments_lexer": "ipython3",
   "version": "3.11.7"
  }
 },
 "nbformat": 4,
 "nbformat_minor": 4
}
