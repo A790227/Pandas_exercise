{
 "cells": [
  {
   "cell_type": "code",
   "execution_count": 26,
   "metadata": {},
   "outputs": [],
   "source": [
    "import pandas as pd"
   ]
  },
  {
   "cell_type": "markdown",
   "metadata": {},
   "source": [
    "### Download the data and load it to Pandas. \n",
    "\n",
    "You can find the data files in the README."
   ]
  },
  {
   "cell_type": "code",
   "execution_count": 30,
   "metadata": {},
   "outputs": [
    {
     "data": {
      "text/html": [
       "<div>\n",
       "<style scoped>\n",
       "    .dataframe tbody tr th:only-of-type {\n",
       "        vertical-align: middle;\n",
       "    }\n",
       "\n",
       "    .dataframe tbody tr th {\n",
       "        vertical-align: top;\n",
       "    }\n",
       "\n",
       "    .dataframe thead th {\n",
       "        text-align: right;\n",
       "    }\n",
       "</style>\n",
       "<table border=\"1\" class=\"dataframe\">\n",
       "  <thead>\n",
       "    <tr style=\"text-align: right;\">\n",
       "      <th></th>\n",
       "      <th>title</th>\n",
       "      <th>year</th>\n",
       "    </tr>\n",
       "  </thead>\n",
       "  <tbody>\n",
       "    <tr>\n",
       "      <th>0</th>\n",
       "      <td>The Rising Son</td>\n",
       "      <td>1990</td>\n",
       "    </tr>\n",
       "    <tr>\n",
       "      <th>1</th>\n",
       "      <td>The Thousand Plane Raid</td>\n",
       "      <td>1969</td>\n",
       "    </tr>\n",
       "    <tr>\n",
       "      <th>2</th>\n",
       "      <td>Crucea de piatra</td>\n",
       "      <td>1993</td>\n",
       "    </tr>\n",
       "    <tr>\n",
       "      <th>3</th>\n",
       "      <td>Country</td>\n",
       "      <td>2000</td>\n",
       "    </tr>\n",
       "    <tr>\n",
       "      <th>4</th>\n",
       "      <td>Gaiking II</td>\n",
       "      <td>2011</td>\n",
       "    </tr>\n",
       "  </tbody>\n",
       "</table>\n",
       "</div>"
      ],
      "text/plain": [
       "                     title  year\n",
       "0           The Rising Son  1990\n",
       "1  The Thousand Plane Raid  1969\n",
       "2         Crucea de piatra  1993\n",
       "3                  Country  2000\n",
       "4               Gaiking II  2011"
      ]
     },
     "execution_count": 30,
     "metadata": {},
     "output_type": "execute_result"
    }
   ],
   "source": [
    "# titles = pd.read_csv('data/titles.csv')\n",
    "titles = pd.read_csv('titles.csv')\n",
    "# titles.head()\n",
    "titles.head()"
   ]
  },
  {
   "cell_type": "code",
   "execution_count": 31,
   "metadata": {},
   "outputs": [
    {
     "data": {
      "text/html": [
       "<div>\n",
       "<style scoped>\n",
       "    .dataframe tbody tr th:only-of-type {\n",
       "        vertical-align: middle;\n",
       "    }\n",
       "\n",
       "    .dataframe tbody tr th {\n",
       "        vertical-align: top;\n",
       "    }\n",
       "\n",
       "    .dataframe thead th {\n",
       "        text-align: right;\n",
       "    }\n",
       "</style>\n",
       "<table border=\"1\" class=\"dataframe\">\n",
       "  <thead>\n",
       "    <tr style=\"text-align: right;\">\n",
       "      <th></th>\n",
       "      <th>title</th>\n",
       "      <th>year</th>\n",
       "      <th>name</th>\n",
       "      <th>type</th>\n",
       "      <th>character</th>\n",
       "      <th>n</th>\n",
       "    </tr>\n",
       "  </thead>\n",
       "  <tbody>\n",
       "    <tr>\n",
       "      <th>0</th>\n",
       "      <td>Closet Monster</td>\n",
       "      <td>2015</td>\n",
       "      <td>Buffy #1</td>\n",
       "      <td>actor</td>\n",
       "      <td>Buffy 4</td>\n",
       "      <td>NaN</td>\n",
       "    </tr>\n",
       "    <tr>\n",
       "      <th>1</th>\n",
       "      <td>Suuri illusioni</td>\n",
       "      <td>1985</td>\n",
       "      <td>Homo $</td>\n",
       "      <td>actor</td>\n",
       "      <td>Guests</td>\n",
       "      <td>22.0</td>\n",
       "    </tr>\n",
       "    <tr>\n",
       "      <th>2</th>\n",
       "      <td>Battle of the Sexes</td>\n",
       "      <td>2017</td>\n",
       "      <td>$hutter</td>\n",
       "      <td>actor</td>\n",
       "      <td>Bobby Riggs Fan</td>\n",
       "      <td>10.0</td>\n",
       "    </tr>\n",
       "    <tr>\n",
       "      <th>3</th>\n",
       "      <td>Secret in Their Eyes</td>\n",
       "      <td>2015</td>\n",
       "      <td>$hutter</td>\n",
       "      <td>actor</td>\n",
       "      <td>2002 Dodger Fan</td>\n",
       "      <td>NaN</td>\n",
       "    </tr>\n",
       "    <tr>\n",
       "      <th>4</th>\n",
       "      <td>Steve Jobs</td>\n",
       "      <td>2015</td>\n",
       "      <td>$hutter</td>\n",
       "      <td>actor</td>\n",
       "      <td>1988 Opera House Patron</td>\n",
       "      <td>NaN</td>\n",
       "    </tr>\n",
       "  </tbody>\n",
       "</table>\n",
       "</div>"
      ],
      "text/plain": [
       "                  title  year      name   type                character     n\n",
       "0        Closet Monster  2015  Buffy #1  actor                  Buffy 4   NaN\n",
       "1       Suuri illusioni  1985    Homo $  actor                   Guests  22.0\n",
       "2   Battle of the Sexes  2017   $hutter  actor          Bobby Riggs Fan  10.0\n",
       "3  Secret in Their Eyes  2015   $hutter  actor          2002 Dodger Fan   NaN\n",
       "4            Steve Jobs  2015   $hutter  actor  1988 Opera House Patron   NaN"
      ]
     },
     "execution_count": 31,
     "metadata": {},
     "output_type": "execute_result"
    }
   ],
   "source": [
    "# cast = pd.read_csv('data/cast.csv')\n",
    "cast = pd.read_csv('cast.csv')\n",
    "# cast.head()\n",
    "cast.head()"
   ]
  },
  {
   "cell_type": "markdown",
   "metadata": {},
   "source": [
    "## Part 1: Group By"
   ]
  },
  {
   "cell_type": "markdown",
   "metadata": {},
   "source": [
    "### 1. Using groupby(), count the number of films that have been released in each decade in the history of cinema."
   ]
  },
  {
   "cell_type": "code",
   "execution_count": 9,
   "metadata": {
    "collapsed": true,
    "jupyter": {
     "outputs_hidden": true
    }
   },
   "outputs": [
    {
     "name": "stdout",
     "output_type": "stream",
     "text": [
      "decade\n",
      "1890        3\n",
      "1900       37\n",
      "1910     6512\n",
      "1920     8797\n",
      "1930    10097\n",
      "1940     8576\n",
      "1950    12711\n",
      "1960    17515\n",
      "1970    18714\n",
      "1980    20243\n",
      "1990    22225\n",
      "2000    38713\n",
      "2010    67976\n",
      "2020      210\n",
      "Name: title, dtype: int64\n"
     ]
    }
   ],
   "source": [
    "# Extract the decade from the release year\n",
    "titles['decade'] = (titles['year'] // 10) * 10\n",
    "\n",
    "# Group by decade and count the number of films\n",
    "films_per_decade = titles.groupby('decade')['title'].count()\n",
    "\n",
    "print(films_per_decade)"
   ]
  },
  {
   "cell_type": "markdown",
   "metadata": {},
   "source": [
    "### 2. Use groupby() count the number of \"Hamlet\" films made in each decade."
   ]
  },
  {
   "cell_type": "code",
   "execution_count": 13,
   "metadata": {
    "collapsed": true,
    "jupyter": {
     "outputs_hidden": true
    }
   },
   "outputs": [
    {
     "name": "stdout",
     "output_type": "stream",
     "text": [
      "decade\n",
      "1910    3\n",
      "1920    1\n",
      "1940    1\n",
      "1950    1\n",
      "1960    2\n",
      "1970    2\n",
      "1980    1\n",
      "1990    2\n",
      "2000    2\n",
      "2010    3\n",
      "Name: title, dtype: int64\n"
     ]
    },
    {
     "name": "stderr",
     "output_type": "stream",
     "text": [
      "C:\\Users\\a7902\\AppData\\Local\\Temp\\ipykernel_22516\\906543853.py:5: SettingWithCopyWarning: \n",
      "A value is trying to be set on a copy of a slice from a DataFrame.\n",
      "Try using .loc[row_indexer,col_indexer] = value instead\n",
      "\n",
      "See the caveats in the documentation: https://pandas.pydata.org/pandas-docs/stable/user_guide/indexing.html#returning-a-view-versus-a-copy\n",
      "  hamlet_films['decade'] = (hamlet_films['year'] // 10) * 10\n"
     ]
    }
   ],
   "source": [
    "# Filter for films with the title 'Hamlet'\n",
    "hamlet_films = titles[titles['title'] == 'Hamlet']\n",
    "\n",
    "# Extract the decade from the release year\n",
    "hamlet_films['decade'] = (hamlet_films['year'] // 10) * 10\n",
    "\n",
    "# Group by decade and count the number of \"Hamlet\" films\n",
    "films_per_decade = hamlet_films.groupby('decade')['title'].count()\n",
    "\n",
    "print(films_per_decade)"
   ]
  },
  {
   "cell_type": "code",
   "execution_count": null,
   "metadata": {
    "collapsed": true,
    "jupyter": {
     "outputs_hidden": true
    }
   },
   "outputs": [],
   "source": []
  },
  {
   "cell_type": "markdown",
   "metadata": {},
   "source": [
    "### 3. Use groupby() to determine how many roles are listed for each of the Pink Panther movies."
   ]
  },
  {
   "cell_type": "code",
   "execution_count": 38,
   "metadata": {
    "collapsed": true,
    "jupyter": {
     "outputs_hidden": true
    }
   },
   "outputs": [
    {
     "name": "stdout",
     "output_type": "stream",
     "text": [
      "                            title  role_count\n",
      "0       Curse of the Pink Panther          67\n",
      "1     Revenge of the Pink Panther          64\n",
      "2         Son of the Pink Panther          46\n",
      "3                The Pink Panther         111\n",
      "4              The Pink Panther 2          84\n",
      "5  The Pink Panther Strikes Again          68\n",
      "6  The Return of the Pink Panther          30\n",
      "7       Trail of the Pink Panther          41\n"
     ]
    }
   ],
   "source": [
    "\n",
    "# Filter the titles DataFrame to include only the Pink Panther movies\n",
    "pink_panther_titles = titles[titles['title'].str.contains('Pink Panther', case=False, na=False)]\n",
    "\n",
    "# Merge the filtered titles with the cast DataFrame to get the roles\n",
    "pink_panther_cast = cast[cast['title'].isin(pink_panther_titles['title'])]\n",
    "\n",
    "# Group by movie title and count the number of roles\n",
    "role_counts = pink_panther_cast.groupby('title').size().reset_index(name='role_count')\n",
    "\n",
    "# Print the result\n",
    "print(role_counts)"
   ]
  },
  {
   "cell_type": "code",
   "execution_count": null,
   "metadata": {
    "collapsed": true,
    "jupyter": {
     "outputs_hidden": true
    }
   },
   "outputs": [],
   "source": []
  },
  {
   "cell_type": "markdown",
   "metadata": {},
   "source": [
    "### 4. Using groupby(), list each of the films in which Frank Oz has played more than 1 role in order by year."
   ]
  },
  {
   "cell_type": "code",
   "execution_count": 39,
   "metadata": {
    "collapsed": true,
    "jupyter": {
     "outputs_hidden": true
    }
   },
   "outputs": [
    {
     "name": "stdout",
     "output_type": "stream",
     "text": [
      "                                   title  year  role_count\n",
      "22                      The Muppet Movie  1979           8\n",
      "0         An American Werewolf in London  1981           2\n",
      "20                The Great Muppet Caper  1981           6\n",
      "19                      The Dark Crystal  1982           2\n",
      "23            The Muppets Take Manhattan  1984           7\n",
      "2                       Follow That Bird  1985           3\n",
      "21            The Muppet Christmas Carol  1992           7\n",
      "7                 Muppet Treasure Island  1996           4\n",
      "8                     Muppets from Space  1999           4\n",
      "17  The Adventures of Elmo in Grouchland  1999           3\n"
     ]
    }
   ],
   "source": [
    "# Filter the DataFrame to include only rows where Frank Oz is listed\n",
    "frank_oz_cast = cast[cast['name'] == 'Frank Oz']\n",
    "\n",
    "# Group by title and year and count the number of roles\n",
    "role_counts = frank_oz_cast.groupby(['title', 'year']).size().reset_index(name='role_count')\n",
    "\n",
    "# Filter to include only those films where the count of roles is greater than 1\n",
    "frank_oz_multiple_roles = role_counts[role_counts['role_count'] > 1]\n",
    "\n",
    "# Sort the resulting DataFrame by year\n",
    "frank_oz_multiple_roles_sorted = frank_oz_multiple_roles.sort_values(by='year')\n",
    "\n",
    "# Print the result\n",
    "print(frank_oz_multiple_roles_sorted)"
   ]
  },
  {
   "cell_type": "code",
   "execution_count": null,
   "metadata": {
    "collapsed": true,
    "jupyter": {
     "outputs_hidden": true
    }
   },
   "outputs": [],
   "source": []
  },
  {
   "cell_type": "markdown",
   "metadata": {},
   "source": [
    "## Part 2: Merging\n",
    "\n",
    "For these questions, you'll also need the following dataframe on release dates.\n",
    "\n",
    "You'll need to merge to join together the information present in different dataframes, in addition to other filtering and calculations."
   ]
  },
  {
   "cell_type": "code",
   "execution_count": 40,
   "metadata": {},
   "outputs": [
    {
     "name": "stderr",
     "output_type": "stream",
     "text": [
      "C:\\Users\\a7902\\AppData\\Local\\Temp\\ipykernel_22516\\1742529517.py:2: FutureWarning: The argument 'infer_datetime_format' is deprecated and will be removed in a future version. A strict version of it is now the default, see https://pandas.pydata.org/pdeps/0004-consistent-to-datetime-parsing.html. You can safely remove this argument.\n",
      "  release_dates = pd.read_csv('release_dates.csv', index_col=None, parse_dates=['date'], infer_datetime_format=True)\n"
     ]
    },
    {
     "data": {
      "text/html": [
       "<div>\n",
       "<style scoped>\n",
       "    .dataframe tbody tr th:only-of-type {\n",
       "        vertical-align: middle;\n",
       "    }\n",
       "\n",
       "    .dataframe tbody tr th {\n",
       "        vertical-align: top;\n",
       "    }\n",
       "\n",
       "    .dataframe thead th {\n",
       "        text-align: right;\n",
       "    }\n",
       "</style>\n",
       "<table border=\"1\" class=\"dataframe\">\n",
       "  <thead>\n",
       "    <tr style=\"text-align: right;\">\n",
       "      <th></th>\n",
       "      <th>title</th>\n",
       "      <th>year</th>\n",
       "      <th>country</th>\n",
       "      <th>date</th>\n",
       "    </tr>\n",
       "  </thead>\n",
       "  <tbody>\n",
       "    <tr>\n",
       "      <th>0</th>\n",
       "      <td>#73, Shaanthi Nivaasa</td>\n",
       "      <td>2007</td>\n",
       "      <td>India</td>\n",
       "      <td>2007-06-15</td>\n",
       "    </tr>\n",
       "    <tr>\n",
       "      <th>1</th>\n",
       "      <td>#Beings</td>\n",
       "      <td>2015</td>\n",
       "      <td>Romania</td>\n",
       "      <td>2015-01-29</td>\n",
       "    </tr>\n",
       "    <tr>\n",
       "      <th>2</th>\n",
       "      <td>#Declimax</td>\n",
       "      <td>2018</td>\n",
       "      <td>Netherlands</td>\n",
       "      <td>2018-01-21</td>\n",
       "    </tr>\n",
       "    <tr>\n",
       "      <th>3</th>\n",
       "      <td>#Ewankosau saranghaeyo</td>\n",
       "      <td>2015</td>\n",
       "      <td>Philippines</td>\n",
       "      <td>2015-01-21</td>\n",
       "    </tr>\n",
       "    <tr>\n",
       "      <th>4</th>\n",
       "      <td>#Horror</td>\n",
       "      <td>2015</td>\n",
       "      <td>USA</td>\n",
       "      <td>2015-11-20</td>\n",
       "    </tr>\n",
       "  </tbody>\n",
       "</table>\n",
       "</div>"
      ],
      "text/plain": [
       "                    title  year      country       date\n",
       "0   #73, Shaanthi Nivaasa  2007        India 2007-06-15\n",
       "1                 #Beings  2015      Romania 2015-01-29\n",
       "2               #Declimax  2018  Netherlands 2018-01-21\n",
       "3  #Ewankosau saranghaeyo  2015  Philippines 2015-01-21\n",
       "4                 #Horror  2015          USA 2015-11-20"
      ]
     },
     "execution_count": 40,
     "metadata": {},
     "output_type": "execute_result"
    }
   ],
   "source": [
    "# release_dates = pd.read_csv('data/release_dates.csv', index_col=None, parse_dates=['date'], infer_datetime_format=True)\n",
    "release_dates = pd.read_csv('release_dates.csv', index_col=None, parse_dates=['date'], infer_datetime_format=True)\n",
    "# release_dates.head()\n",
    "release_dates.head()"
   ]
  },
  {
   "cell_type": "markdown",
   "metadata": {},
   "source": [
    "### 1. Count the number of movies with \"Christmas\" in their title for each month, that is released are the USA."
   ]
  },
  {
   "cell_type": "code",
   "execution_count": 44,
   "metadata": {},
   "outputs": [
    {
     "name": "stdout",
     "output_type": "stream",
     "text": [
      "    month  movie_count\n",
      "0       1            2\n",
      "1       2            3\n",
      "2       4            1\n",
      "3       5            2\n",
      "4       6            2\n",
      "5       7            1\n",
      "6       8            2\n",
      "7       9            2\n",
      "8      10           16\n",
      "9      11           47\n",
      "10     12           56\n"
     ]
    },
    {
     "name": "stderr",
     "output_type": "stream",
     "text": [
      "C:\\Users\\a7902\\AppData\\Local\\Temp\\ipykernel_22516\\2002717172.py:14: SettingWithCopyWarning: \n",
      "A value is trying to be set on a copy of a slice from a DataFrame.\n",
      "Try using .loc[row_indexer,col_indexer] = value instead\n",
      "\n",
      "See the caveats in the documentation: https://pandas.pydata.org/pandas-docs/stable/user_guide/indexing.html#returning-a-view-versus-a-copy\n",
      "  usa_christmas_releases['release_date'] = pd.to_datetime(usa_christmas_releases['date'], errors='coerce')\n"
     ]
    }
   ],
   "source": [
    "# Filter out rows where the 'title' is NaN\n",
    "titles = titles.dropna(subset=['title'])\n",
    "\n",
    "# Filter the titles DataFrame to include only movies with \"Christmas\" in their title\n",
    "christmas_titles = titles[titles['title'].str.contains('Christmas', case=False, na=False)]\n",
    "\n",
    "# Merge the Christmas titles with the release_dates DataFrame to get the release dates\n",
    "christmas_release_dates = christmas_titles.merge(release_dates, on='title')\n",
    "\n",
    "# Filter to include only movies released in the USA\n",
    "usa_christmas_releases = christmas_release_dates[christmas_release_dates['country'] == 'USA']\n",
    "\n",
    "# Convert release date to datetime format\n",
    "usa_christmas_releases['release_date'] = pd.to_datetime(usa_christmas_releases['date'], errors='coerce')\n",
    "\n",
    "# Drop rows where 'release_date' is NaN after conversion\n",
    "usa_christmas_releases = usa_christmas_releases.dropna(subset=['release_date'])\n",
    "\n",
    "# Extract the month from the release date\n",
    "usa_christmas_releases['month'] = usa_christmas_releases['release_date'].dt.month\n",
    "\n",
    "# Group by month and count the number of movies\n",
    "month_counts = usa_christmas_releases.groupby('month').size().reset_index(name='movie_count')\n",
    "\n",
    "# Print the result\n",
    "print(month_counts)\n"
   ]
  },
  {
   "cell_type": "markdown",
   "metadata": {},
   "source": [
    "### 2. Count the number of movies with \"Romance\" in their title for **each day of the week**, that are released in the USA."
   ]
  },
  {
   "cell_type": "code",
   "execution_count": 43,
   "metadata": {},
   "outputs": [
    {
     "name": "stdout",
     "output_type": "stream",
     "text": [
      "    month  movie_count\n",
      "0       1            2\n",
      "1       2            2\n",
      "2       4            1\n",
      "3       5            1\n",
      "4       6            1\n",
      "5       7            1\n",
      "6       8            2\n",
      "7       9            2\n",
      "8      10           14\n",
      "9      11           38\n",
      "10     12           47\n"
     ]
    },
    {
     "name": "stderr",
     "output_type": "stream",
     "text": [
      "C:\\Users\\a7902\\AppData\\Local\\Temp\\ipykernel_22516\\775123346.py:14: SettingWithCopyWarning: \n",
      "A value is trying to be set on a copy of a slice from a DataFrame.\n",
      "Try using .loc[row_indexer,col_indexer] = value instead\n",
      "\n",
      "See the caveats in the documentation: https://pandas.pydata.org/pandas-docs/stable/user_guide/indexing.html#returning-a-view-versus-a-copy\n",
      "  usa_christmas_releases['release_date'] = pd.to_datetime(usa_christmas_releases['date'], errors='coerce')\n"
     ]
    }
   ],
   "source": [
    "# Filter out rows where the 'title' is NaN\n",
    "titles = titles.dropna(subset=['title'])\n",
    "\n",
    "# Filter the titles DataFrame to include only movies with \"Christmas\" in their title\n",
    "christmas_titles = titles[titles['title'].str.contains('Christmas', case=False, na=False)]\n",
    "\n",
    "# Merge the Christmas titles with the release_dates DataFrame to get the release dates\n",
    "christmas_release_dates = christmas_titles.merge(release_dates, on=['title', 'year'])\n",
    "\n",
    "# Filter to include only movies released in the USA\n",
    "usa_christmas_releases = christmas_release_dates[christmas_release_dates['country'] == 'USA']\n",
    "\n",
    "# Convert release date to datetime format\n",
    "usa_christmas_releases['release_date'] = pd.to_datetime(usa_christmas_releases['date'], errors='coerce')\n",
    "\n",
    "# Drop rows where 'release_date' is NaN after conversion\n",
    "usa_christmas_releases = usa_christmas_releases.dropna(subset=['release_date'])\n",
    "\n",
    "# Extract the month from the release date\n",
    "usa_christmas_releases['month'] = usa_christmas_releases['release_date'].dt.month\n",
    "\n",
    "# Group by month and count the number of movies\n",
    "month_counts = usa_christmas_releases.groupby('month').size().reset_index(name='movie_count')\n",
    "\n",
    "# Print the result\n",
    "print(month_counts)"
   ]
  },
  {
   "cell_type": "code",
   "execution_count": null,
   "metadata": {},
   "outputs": [],
   "source": []
  },
  {
   "cell_type": "markdown",
   "metadata": {},
   "source": [
    "### 3. On which date was each Judi Dench movie from the 1990s released in the USA?"
   ]
  },
  {
   "cell_type": "code",
   "execution_count": 46,
   "metadata": {},
   "outputs": [
    {
     "name": "stdout",
     "output_type": "stream",
     "text": [
      "Empty DataFrame\n",
      "Columns: [title, date]\n",
      "Index: []\n"
     ]
    }
   ],
   "source": [
    "# Filter out rows where the 'title' or 'year' is NaN\n",
    "titles = titles.dropna(subset=['title', 'year'])\n",
    "\n",
    "# Filter the titles DataFrame to include only movies where Judi Dench is listed in the cast\n",
    "judi_dench_movies = titles[titles['title'].str.contains('Judi Dench', case=False, na=False)]\n",
    "\n",
    "# Filter further to include only movies released in the 1990s\n",
    "judi_dench_1990s = judi_dench_movies[(judi_dench_movies['year'] >= 1990) & (judi_dench_movies['year'] <= 1999)]\n",
    "\n",
    "# Merge the Judi Dench 1990s movies with the release_dates DataFrame to get the release dates\n",
    "judi_dench_release_dates = judi_dench_1990s.merge(release_dates, on=['title', 'year'])\n",
    "\n",
    "# Filter to include only movies released in the USA\n",
    "usa_judi_dench_releases = judi_dench_release_dates[judi_dench_release_dates['country'] == 'USA']\n",
    "\n",
    "# Select relevant columns to display\n",
    "result = usa_judi_dench_releases[['title', 'date']]  # Assuming 'date' is the column name in release_dates.csv for release date\n",
    "\n",
    "# Print the result\n",
    "print(result)"
   ]
  },
  {
   "cell_type": "code",
   "execution_count": null,
   "metadata": {},
   "outputs": [],
   "source": []
  },
  {
   "cell_type": "markdown",
   "metadata": {},
   "source": [
    "### 4. In which months do films with the actress Judi Dench tend to be released in the USA?"
   ]
  },
  {
   "cell_type": "code",
   "execution_count": null,
   "metadata": {},
   "outputs": [],
   "source": []
  },
  {
   "cell_type": "code",
   "execution_count": null,
   "metadata": {},
   "outputs": [],
   "source": []
  }
 ],
 "metadata": {
  "kernelspec": {
   "display_name": "THE_ONE",
   "language": "python",
   "name": "the_one"
  },
  "language_info": {
   "codemirror_mode": {
    "name": "ipython",
    "version": 3
   },
   "file_extension": ".py",
   "mimetype": "text/x-python",
   "name": "python",
   "nbconvert_exporter": "python",
   "pygments_lexer": "ipython3",
   "version": "3.11.7"
  }
 },
 "nbformat": 4,
 "nbformat_minor": 4
}
